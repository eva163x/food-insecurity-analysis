{
 "cells": [
  {
   "cell_type": "markdown",
   "id": "24387db8-4fe7-45c8-8dad-9dbe90879247",
   "metadata": {},
   "source": [
    "# Nutritional Inequality and Food Prices  \n",
    "\n",
    "## Introduction  \n",
    "\n",
    "Nutritional inequality refers to disparities in diet quality and access to healthy food across different socioeconomic groups. Rising food prices, food deserts, and lack of nutrition education contribute to this issue, affecting millions of Americans. As of 2025, **around 40 million Americans** experience food insecurity, with many turning to cheaper, less nutritious options due to affordability and accessibility challenges.  \n",
    "\n",
    "In this project, we explore **how food prices impact dietary choices and accessibility across different regions and income levels**. Our research focuses on:  \n",
    "\n",
    "- **Comparing** the cost of nutrient-dense foods (fruits, vegetables) versus processed foods  \n",
    "- **Analyzing** geographical disparities in food availability (food deserts)  \n",
    "- **Investigating** the role of socioeconomic factors in nutritional choices  \n",
    "- **Assessing** the impact of nutrition education on food access and consumption  \n",
    "\n",
    "To address these questions, we leverage publicly available datasets from **USDA, BLS, FAO, and Kaggle**, integrating statistical analysis and visualization techniques. Our goal is to uncover meaningful insights into the systemic causes of nutritional inequality and potential policy interventions.  \n",
    "\n",
    "---  \n",
    "### Notebook Workflow  \n",
    "🔹 **Data Wrangling:** Cleaning and preprocessing datasets  \n",
    "🔹 **Combining Data:** Merging multiple sources for comprehensive analysis  \n",
    "🔹 **Statistical Analysis:** Identifying correlations between food prices, income, and access  \n",
    "🔹 **Visualization:** Presenting trends and disparities through charts and maps  \n",
    "\n",
    "This notebook serves as a prototype for our analysis, demonstrating key data transformations, exploratory statistics, and preliminary findings. 🚀  "
   ]
  },
  {
   "cell_type": "code",
   "execution_count": 1,
   "id": "41f8f1b7-78cc-4498-94fa-994ee8065b04",
   "metadata": {},
   "outputs": [],
   "source": [
    "# Load in packages\n",
    "\n",
    "import numpy as np \n",
    "import pandas as pd\n",
    "# others"
   ]
  },
  {
   "cell_type": "code",
   "execution_count": null,
   "id": "e6127e3d-0c0e-4792-b26e-b7f645664a07",
   "metadata": {},
   "outputs": [],
   "source": [
    "# Load in datasets\n",
    "folder_path = 'project data/'\n",
    "\n",
    "historical_changes_consumer_price = pd.read_csv(folder_path + '(historical) changes_consumer_price.csv')\n",
    "historical_producer_price_changes = pd.read_csv(folder_path + '(historical) producer_price_changes.csv')\n",
    "changes_consumer_price_indices = pd.read_csv(folder_path + 'changes_consumer_price_indices.csv')\n",
    "changes_producer_price = pd.read_csv(folder_path + 'changes_producer_price.csv')\n",
    "food_access_data = pd.read_excel(folder_path + 'FoodAccessResearchAtlasData2019.xlsx')"
   ]
  },
  {
   "cell_type": "code",
   "execution_count": null,
   "id": "bd58bf44-ed97-4f76-9489-c2574617dbe0",
   "metadata": {},
   "outputs": [],
   "source": []
  }
 ],
 "metadata": {
  "kernelspec": {
   "display_name": "base",
   "language": "python",
   "name": "python3"
  },
  "language_info": {
   "codemirror_mode": {
    "name": "ipython",
    "version": 3
   },
   "file_extension": ".py",
   "mimetype": "text/x-python",
   "name": "python",
   "nbconvert_exporter": "python",
   "pygments_lexer": "ipython3",
   "version": "3.12.7"
  }
 },
 "nbformat": 4,
 "nbformat_minor": 5
}
